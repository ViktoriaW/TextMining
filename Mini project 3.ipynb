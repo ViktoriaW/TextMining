{
 "cells": [
  {
   "cell_type": "markdown",
   "metadata": {},
   "source": [
    "# Mini project 3 - Text mining and analysis\n",
    "By Viktoria Wastring"
   ]
  },
  {
   "cell_type": "markdown",
   "metadata": {},
   "source": [
    "### Analyzing the word frequency of book"
   ]
  },
  {
   "cell_type": "markdown",
   "metadata": {},
   "source": [
    "started by importig the book though the instructions on the course website"
   ]
  },
  {
   "cell_type": "code",
   "execution_count": 1,
   "metadata": {
    "collapsed": true
   },
   "outputs": [],
   "source": [
    "import requests\n",
    "wuthering_heights_full_text = requests.get('http://www.gutenberg.org/cache/epub/768/pg768.txt').text\n",
    "# print(wuthering_heights_full_text)"
   ]
  },
  {
   "cell_type": "markdown",
   "metadata": {},
   "source": [
    "Making words in text into a dictionary"
   ]
  },
  {
   "cell_type": "code",
   "execution_count": 2,
   "metadata": {
    "collapsed": true
   },
   "outputs": [],
   "source": [
    "import string\n",
    "\n",
    "def text_file(wuthering_heights_full_text):\n",
    "    \"\"\"Function which is creating histogram and are putting all words from text_line in the histogram dictionary \"\"\"\n",
    "    histo = dict()\n",
    "    wuthei = open(wuthering_heights_full_text)\n",
    "    for line in wuthei:\n",
    "        text_line(line, histo)\n",
    "    return histo\n",
    "\n",
    "def text_line(line, histo):\n",
    "    \"\"\"Function which is checking a line in in the text and is replacing punctuation and whitespace and making all characters \n",
    "    lowercase\"\"\"\n",
    "    line = line.replace('-', ' ')\n",
    "    \n",
    "    for word in line.split():\n",
    "        word = word.strip(string.punctuation + string.whitespace)\n",
    "        word = word.lower()\n",
    "        histo[word] = histo.get(word, 0) + 1\n",
    "\n",
    "histo = text_file('Wuthering_heights.link.txt')"
   ]
  },
  {
   "cell_type": "markdown",
   "metadata": {},
   "source": [
    "Next i am building a counter which counts the frequency of the most common words in text. In this case I am checking the first 50 words."
   ]
  },
  {
   "cell_type": "code",
   "execution_count": 3,
   "metadata": {
    "collapsed": true
   },
   "outputs": [],
   "source": [
    "def most_common_words(histo):\n",
    "    \"\"\"Creating a list of tuples to be able to sort the list after frequency. Returning the 50 first elements in the list\n",
    "    (the 50 most common words in the book and their frequency)\"\"\"\n",
    "    list_of_tuples = []\n",
    "    for word, freq in histo.items():\n",
    "        list_of_tuples.append((freq, word))\n",
    "    list_of_tuples.sort(reverse = True)\n",
    "    return list_of_tuples[:50]"
   ]
  },
  {
   "cell_type": "markdown",
   "metadata": {},
   "source": [
    "After doing this, I created a new dictionary with the most common words in the english language. I then subtracted the new dictionary from my histogram dictionary so that i would get a histogram without the most common words in the english lagnuage. This didn't give me any good results, so i decided to look at the least common words instead. (The code for the things i originally did is in the end of this notebook)"
   ]
  },
  {
   "cell_type": "code",
   "execution_count": 4,
   "metadata": {},
   "outputs": [
    {
     "data": {
      "text/plain": [
       "4217"
      ]
     },
     "execution_count": 4,
     "metadata": {},
     "output_type": "execute_result"
    }
   ],
   "source": [
    "def least_common_words(histo):\n",
    "    \"\"\"Function is printing the amount of words that is only mentioned once (frequency = 1)\"\"\"\n",
    "    list_of_tuples = []\n",
    "    for word, freq in histo.items():\n",
    "        list_of_tuples.append((freq, word))\n",
    "    list_of_tuples.sort()\n",
    "    words_with_freq1 = []\n",
    "    for freq, word in list_of_tuples:\n",
    "        if freq == 1:\n",
    "            words_with_freq1.append(word)\n",
    "    return words_with_freq1\n",
    "\n",
    "l = least_common_words(histo)\n",
    "len(l)"
   ]
  },
  {
   "cell_type": "markdown",
   "metadata": {},
   "source": [
    "Next i wanted to create a function which can check any frequency and print the number of words appering that many times. "
   ]
  },
  {
   "cell_type": "code",
   "execution_count": 5,
   "metadata": {
    "collapsed": true
   },
   "outputs": [],
   "source": [
    "def num_occurence(histo, num):\n",
    "    list_of_tuples = []\n",
    "    for word, freq in histo.items():\n",
    "        list_of_tuples.append((freq, word))\n",
    "    list_of_tuples.sort()\n",
    "    words_with_num = []\n",
    "    for freq, word in list_of_tuples:\n",
    "        if freq == num:\n",
    "            words_with_num.append(word)\n",
    "    return len(words_with_num)"
   ]
  },
  {
   "cell_type": "markdown",
   "metadata": {},
   "source": [
    "Next I created a function to run through all of the frequencies. To get a better overview of the results i decided to plot it. "
   ]
  },
  {
   "cell_type": "code",
   "execution_count": 6,
   "metadata": {},
   "outputs": [
    {
     "data": {
      "image/png": "[encoded data removed]",
      "text/plain": [
       "<matplotlib.figure.Figure at 0x2147b6f60f0>"
      ]
     },
     "metadata": {},
     "output_type": "display_data"
    }
   ],
   "source": [
    "def occurence(histo):\n",
    "    list_of_i = []\n",
    "    list_of_occurence = []\n",
    "    for i in range(5000):\n",
    "        list_of_occurence.append(num_occurence(histo,i))\n",
    "        list_of_i.append(i)\n",
    "    return list_of_i , list_of_occurence\n",
    "        \n",
    "xaxis, yaxis = occurence(histo)\n",
    "\n",
    "import matplotlib.pyplot as plt\n",
    "plt.plot(xaxis, yaxis, 'ro')\n",
    "plt.axis([0, 500, 0, 10])\n",
    "plt.xlabel('Frequency')\n",
    "plt.ylabel('Number of words ')\n",
    "plt.show()"
   ]
  },
  {
   "cell_type": "code",
   "execution_count": 7,
   "metadata": {},
   "outputs": [
    {
     "data": {
      "image/png": "[encoded data removed]",
      "text/plain": [
       "<matplotlib.figure.Figure at 0x2147db317f0>"
      ]
     },
     "metadata": {},
     "output_type": "display_data"
    }
   ],
   "source": [
    "import matplotlib.pyplot as plt\n",
    "plt.plot(xaxis, yaxis, 'ro')\n",
    "plt.axis([0, 5000, 1, 5000])\n",
    "plt.xlabel('Frequency')\n",
    "plt.ylabel('Number of words ')\n",
    "plt.show()"
   ]
  },
  {
   "cell_type": "code",
   "execution_count": 8,
   "metadata": {},
   "outputs": [
    {
     "data": {
      "image/png": "[encoded data removed]",
      "text/plain": [
       "<matplotlib.figure.Figure at 0x2147f1e1240>"
      ]
     },
     "metadata": {},
     "output_type": "display_data"
    }
   ],
   "source": [
    "import matplotlib.pyplot as plt\n",
    "plt.plot(xaxis, yaxis, 'ro')\n",
    "plt.axis([0, 200, 1, 250])\n",
    "plt.xlabel('Frequency')\n",
    "plt.ylabel('Number of words ')\n",
    "plt.show()"
   ]
  },
  {
   "cell_type": "code",
   "execution_count": 9,
   "metadata": {},
   "outputs": [
    {
     "data": {
      "image/png": "[encoded data removed]",
      "text/plain": [
       "<matplotlib.figure.Figure at 0x2147f2bf048>"
      ]
     },
     "metadata": {},
     "output_type": "display_data"
    }
   ],
   "source": [
    "import matplotlib.pyplot as plt\n",
    "plt.plot(xaxis, yaxis, 'ro')\n",
    "plt.axis([0, 200, 0, 40])\n",
    "plt.xlabel('Frequency')\n",
    "plt.ylabel('Number of words ')\n",
    "plt.show()"
   ]
  },
  {
   "cell_type": "code",
   "execution_count": 10,
   "metadata": {},
   "outputs": [
    {
     "data": {
      "image/png": "[encoded data removed]",
      "text/plain": [
       "<matplotlib.figure.Figure at 0x2147f361160>"
      ]
     },
     "metadata": {},
     "output_type": "display_data"
    }
   ],
   "source": [
    "import matplotlib.pyplot as plt\n",
    "plt.plot(xaxis, yaxis, 'ro')\n",
    "plt.axis([30, 250, 0, 12])\n",
    "plt.xlabel('Frequency')\n",
    "plt.ylabel('Number of words ')\n",
    "plt.show()"
   ]
  },
  {
   "cell_type": "code",
   "execution_count": 11,
   "metadata": {},
   "outputs": [
    {
     "data": {
      "image/png": "[encoded data removed]",
      "text/plain": [
       "<matplotlib.figure.Figure at 0x2147f3e05c0>"
      ]
     },
     "metadata": {},
     "output_type": "display_data"
    }
   ],
   "source": [
    "import matplotlib.pyplot as plt\n",
    "plt.plot(xaxis, yaxis, 'ro')\n",
    "plt.axis([30, 5000, 1, 12])\n",
    "plt.xlabel('Frequency')\n",
    "plt.ylabel('Number of words ')\n",
    "plt.show()"
   ]
  },
  {
   "cell_type": "markdown",
   "metadata": {},
   "source": [
    "# End of project"
   ]
  },
  {
   "cell_type": "markdown",
   "metadata": {},
   "source": [
    "This is the code i have been writing that i didnt use"
   ]
  },
  {
   "cell_type": "code",
   "execution_count": 13,
   "metadata": {
    "collapsed": true
   },
   "outputs": [],
   "source": [
    "eng = ['the' , 'he', 'at', 'but', 'there', 'of', 'was', 'be', 'not', 'use', 'and', 'for', 'this', 'what', 'an', 'a', 'on', 'have', 'all', 'each', 'to', 'are', 'from', 'were', 'which', 'in', 'as', 'or', 'we', 'she', 'is', 'with', 'in', 'when', 'do',\n",
    "         'you', 'his', 'had', 'your', 'how', 'that', 'they', 'by', 'can', 'their', 'it', 'I', 'word', 'said', 'i',  'her', 'my', 'me', 'if']"
   ]
  },
  {
   "cell_type": "code",
   "execution_count": 14,
   "metadata": {},
   "outputs": [
    {
     "ename": "NameError",
     "evalue": "name 'different_words' is not defined",
     "output_type": "error",
     "traceback": [
      "\u001b[1;31m---------------------------------------------------------------------------\u001b[0m",
      "\u001b[1;31mNameError\u001b[0m                                 Traceback (most recent call last)",
      "\u001b[1;32m<ipython-input-14-79b1e58f2923>\u001b[0m in \u001b[0;36m<module>\u001b[1;34m()\u001b[0m\n\u001b[0;32m      8\u001b[0m \u001b[0mres\u001b[0m \u001b[1;33m=\u001b[0m \u001b[0msubtract\u001b[0m\u001b[1;33m(\u001b[0m\u001b[0mhisto\u001b[0m\u001b[1;33m,\u001b[0m \u001b[0meng\u001b[0m\u001b[1;33m)\u001b[0m\u001b[1;33m\u001b[0m\u001b[0m\n\u001b[0;32m      9\u001b[0m \u001b[1;33m\u001b[0m\u001b[0m\n\u001b[1;32m---> 10\u001b[1;33m \u001b[0mdifferent_words\u001b[0m\u001b[1;33m(\u001b[0m\u001b[0mres\u001b[0m\u001b[1;33m)\u001b[0m\u001b[1;33m\u001b[0m\u001b[0m\n\u001b[0m",
      "\u001b[1;31mNameError\u001b[0m: name 'different_words' is not defined"
     ]
    }
   ],
   "source": [
    "def subtract(histo, common_words):\n",
    "    res = dict()\n",
    "    for word in histo.keys():\n",
    "        if word not in common_words:\n",
    "            res[word] = histo[word]\n",
    "    return res\n",
    "\n",
    "res = subtract(histo, eng)\n",
    "\n",
    "different_words(res)"
   ]
  }
 ],
 "metadata": {
  "kernelspec": {
   "display_name": "Python 3",
   "language": "python",
   "name": "python3"
  },
  "language_info": {
   "codemirror_mode": {
    "name": "ipython",
    "version": 3
   },
   "file_extension": ".py",
   "mimetype": "text/x-python",
   "name": "python",
   "nbconvert_exporter": "python",
   "pygments_lexer": "ipython3",
   "version": "3.6.1"
  }
 },
 "nbformat": 4,
 "nbformat_minor": 2
}
